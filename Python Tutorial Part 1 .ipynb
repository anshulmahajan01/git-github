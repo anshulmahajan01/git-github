{
 "cells": [
  {
   "cell_type": "code",
   "execution_count": 1,
   "metadata": {},
   "outputs": [
    {
     "name": "stdout",
     "output_type": "stream",
     "text": [
      "Meet Anshul\n",
      "Anshul is a software engineer\n",
      "Anshul is also interested in lots of other things in life\n"
     ]
    }
   ],
   "source": [
    "print(\"Meet Anshul\")\n",
    "print(\"Anshul is a software engineer\")\n",
    "print(\"Anshul is also interested in lots of other things in life\")\n",
    "\n",
    "#Instead of typing Anshul, we can store it in variable "
   ]
  },
  {
   "cell_type": "code",
   "execution_count": 2,
   "metadata": {},
   "outputs": [
    {
     "name": "stdout",
     "output_type": "stream",
     "text": [
      "Meet Anshul\n",
      "Anshul is a software engineer\n",
      "Anshul is also interested in lots of other things in life\n"
     ]
    }
   ],
   "source": [
    "name = \"Anshul\"\n",
    "print(\"Meet\" , name)\n",
    "print(\"%s is a software engineer\"  %name)\n",
    "print(\"%s is also interested in lots of other things in life\" %name)"
   ]
  },
  {
   "cell_type": "code",
   "execution_count": 3,
   "metadata": {},
   "outputs": [
    {
     "name": "stdout",
     "output_type": "stream",
     "text": [
      "Meet Bhagyashree\n",
      "Bhagyashree is a software engineer\n",
      "Bhagyashree is also interested in lots of other things in life\n"
     ]
    }
   ],
   "source": [
    "name = \"Bhagyashree\"\n",
    "print(\"Meet\" , name)\n",
    "print(\"%s is a software engineer\"  %name)\n",
    "print(\"%s is also interested in lots of other things in life\" %name)"
   ]
  },
  {
   "cell_type": "code",
   "execution_count": 5,
   "metadata": {},
   "outputs": [
    {
     "name": "stdout",
     "output_type": "stream",
     "text": [
      "1761842682320\n",
      "1761842984944\n"
     ]
    }
   ],
   "source": [
    "#In python variables with the same name holds the same memory space \n",
    "\n",
    "\n",
    "name = \"Anshul\"\n",
    "name2 = \"Bhagyashree\"\n",
    "\n",
    "\n",
    "print(id(name))\n",
    "print(id(name2))"
   ]
  },
  {
   "cell_type": "code",
   "execution_count": 12,
   "metadata": {},
   "outputs": [
    {
     "name": "stdout",
     "output_type": "stream",
     "text": [
      "5 <class 'int'>\n",
      "5.0 <class 'float'>\n",
      "(5+0j) <class 'complex'>\n",
      "5.6 <class 'float'>\n",
      "5 <class 'int'>\n",
      "(5+6j) <class 'complex'>\n"
     ]
    }
   ],
   "source": [
    "#int\n",
    "num = 5\n",
    "print(num , type(num))\n",
    "#conversion\n",
    "print(float(num) , type(float(num)))\n",
    "print(complex(num) , type(complex(num)))\n",
    "\n",
    "#float\n",
    "num = 5.6\n",
    "print(num ,type(num))\n",
    "#conversion\n",
    "print(int(num) , type(int(num)))\n",
    "\n",
    "\n",
    "#complex\n",
    "num = 5 + 6j\n",
    "print(num , type(num))"
   ]
  },
  {
   "cell_type": "code",
   "execution_count": 5,
   "metadata": {},
   "outputs": [
    {
     "name": "stdout",
     "output_type": "stream",
     "text": [
      "[1, 4, 5, 2, 5, 6]\n",
      "1\n",
      "6\n",
      "[5, 2, 5, 6]\n",
      "[4, 2, 6]\n"
     ]
    }
   ],
   "source": [
    "#List , tuples and dictionaries\n",
    "lst = [1,4,5,2,5,6]\n",
    "print(lst)\n",
    "print(lst[0])\n",
    "print(len(lst))\n",
    "print(lst[-4:])\n",
    "print(lst[1::2])\n",
    "\n",
    "\n",
    "\n",
    "\n"
   ]
  },
  {
   "cell_type": "code",
   "execution_count": 6,
   "metadata": {},
   "outputs": [],
   "source": [
    "lst = [1,4,\"Python\" , 2 , 7.4 , 5]\n",
    "lst.append(\"Learning\")"
   ]
  },
  {
   "cell_type": "code",
   "execution_count": 12,
   "metadata": {},
   "outputs": [],
   "source": [
    "nested = [1,2,[2,3,4]]\n",
    "nested.extend([[5,6,7], [7,8,9]])"
   ]
  },
  {
   "cell_type": "code",
   "execution_count": 13,
   "metadata": {},
   "outputs": [
    {
     "data": {
      "text/plain": [
       "[1, 2, [2, 3, 4], [5, 6, 7], [7, 8, 9]]"
      ]
     },
     "execution_count": 13,
     "metadata": {},
     "output_type": "execute_result"
    }
   ],
   "source": [
    "nested"
   ]
  },
  {
   "cell_type": "code",
   "execution_count": 18,
   "metadata": {},
   "outputs": [
    {
     "name": "stdout",
     "output_type": "stream",
     "text": [
      "(3, 2, 1)\n"
     ]
    }
   ],
   "source": [
    "tpl = (1,2,3)\n",
    "print(tpl[::-1])"
   ]
  },
  {
   "cell_type": "code",
   "execution_count": 20,
   "metadata": {},
   "outputs": [],
   "source": [
    "tpl = 5,6,8\n",
    "a,b,c = tpl"
   ]
  },
  {
   "cell_type": "code",
   "execution_count": 22,
   "metadata": {},
   "outputs": [
    {
     "name": "stdout",
     "output_type": "stream",
     "text": [
      "5 6 8\n"
     ]
    }
   ],
   "source": [
    "print(a,b,c)"
   ]
  },
  {
   "cell_type": "code",
   "execution_count": 23,
   "metadata": {},
   "outputs": [],
   "source": [
    "a , *lst = tpl\n",
    "print(a , tpl)"
   ]
  },
  {
   "cell_type": "code",
   "execution_count": null,
   "metadata": {},
   "outputs": [],
   "source": [
    "s = {1,2,2,3,3,3,4,5}\n",
    "print(s)\n",
    "s[1] = 1 #this won't work as it cannot be assigned "
   ]
  },
  {
   "cell_type": "code",
   "execution_count": 31,
   "metadata": {},
   "outputs": [
    {
     "name": "stdout",
     "output_type": "stream",
     "text": [
      "a + b 15\n",
      "a - b 5\n",
      "a * b 50\n",
      "a / b 2.0\n",
      "a // b 2\n",
      "a % b 0\n",
      "a ** b 100000\n"
     ]
    }
   ],
   "source": [
    "#arthimetic operators \n",
    "a ,b = 10 , 5\n",
    "print('a + b' , a + b)\n",
    "print('a - b' , a - b)\n",
    "print('a * b' , a * b)\n",
    "print('a / b' , a / b)\n",
    "print('a // b' , a // b)\n",
    "print('a % b' , a % b)\n",
    "print('a ** b' , a ** b)"
   ]
  },
  {
   "cell_type": "code",
   "execution_count": 34,
   "metadata": {},
   "outputs": [
    {
     "name": "stdout",
     "output_type": "stream",
     "text": [
      "2\n"
     ]
    }
   ],
   "source": [
    "count = 0 \n",
    "count = count + 1\n",
    "count += 1\n",
    "print(count)\n"
   ]
  },
  {
   "cell_type": "code",
   "execution_count": 36,
   "metadata": {},
   "outputs": [
    {
     "name": "stdout",
     "output_type": "stream",
     "text": [
      "10 5\n",
      "True\n",
      "False\n",
      "True\n",
      "False\n",
      "False\n",
      "True\n"
     ]
    }
   ],
   "source": [
    "#Relational operators \n",
    "\n",
    "a,b = 10 , 5\n",
    "print(a,b)\n",
    "print(a>b)\n",
    "print(a<b)\n",
    "print(a>=b)\n",
    "print(a<=b)\n",
    "print(a==b)\n",
    "print(a!=b)\n"
   ]
  },
  {
   "cell_type": "code",
   "execution_count": 41,
   "metadata": {},
   "outputs": [
    {
     "name": "stdout",
     "output_type": "stream",
     "text": [
      "10 20 30\n",
      "True\n",
      "True\n"
     ]
    }
   ],
   "source": [
    "#Relational operators \n",
    "\n",
    "\n",
    "a1, b1, c1 =  10 , 20 , 30 \n",
    "print(a1,b1,c1)\n",
    "print(c1>b1 or 1 > b1)\n",
    "print(not a1 > b1)\n"
   ]
  },
  {
   "cell_type": "code",
   "execution_count": 48,
   "metadata": {},
   "outputs": [
    {
     "name": "stdout",
     "output_type": "stream",
     "text": [
      "('0b1010', '0b101')\n",
      "0\n",
      "0b1111\n",
      "0b1111\n",
      "-0b1011\n",
      "0b101000\n"
     ]
    }
   ],
   "source": [
    "#bitwise operator \n",
    "\n",
    "\n",
    "a ,b = 10 , 5 \n",
    "print((bin(a) , bin(b)))\n",
    "print(a & b)\n",
    "print(bin(a|b))\n",
    "print(bin(a^b))\n",
    "print(bin(~a))\n",
    "print(bin(a<<2))"
   ]
  },
  {
   "cell_type": "code",
   "execution_count": 51,
   "metadata": {},
   "outputs": [
    {
     "name": "stdout",
     "output_type": "stream",
     "text": [
      "False\n"
     ]
    }
   ],
   "source": [
    "#membership operators \n",
    "\n",
    "lst = [1,2,3,4,5]\n",
    "x=2\n",
    "print(x not in lst)"
   ]
  },
  {
   "cell_type": "code",
   "execution_count": 54,
   "metadata": {},
   "outputs": [
    {
     "name": "stdout",
     "output_type": "stream",
     "text": [
      "True\n",
      "False\n"
     ]
    }
   ],
   "source": [
    "#identity operator \n",
    "\n",
    "x = 10 \n",
    "y = 10\n",
    "print(x is y)\n",
    "print(x is not y)"
   ]
  },
  {
   "cell_type": "code",
   "execution_count": 62,
   "metadata": {},
   "outputs": [
    {
     "name": "stdout",
     "output_type": "stream",
     "text": [
      "857.375\n",
      "10\n",
      "3.082207001484488\n",
      "6\n"
     ]
    }
   ],
   "source": [
    "import math \n",
    "\n",
    "x = 9.5\n",
    "y= 3\n",
    "print(math.pow(x,y))\n",
    "\n",
    "x = 9.5\n",
    "print(math.ceil(x))\n",
    "\n",
    "print(math.sqrt(x))\n",
    "\n",
    "print(math.factorial(y))"
   ]
  },
  {
   "cell_type": "code",
   "execution_count": 65,
   "metadata": {},
   "outputs": [
    {
     "name": "stdout",
     "output_type": "stream",
     "text": [
      "Enter your name \n",
      "Anshul\n",
      "Hi Anshul\n",
      "Enter your age \n",
      "28\n",
      "What's your age 28\n"
     ]
    }
   ],
   "source": [
    "#inline input \n",
    "\n",
    "name = input(\"Enter your name \\n\")\n",
    "print(\"Hi\" , name)\n",
    "\n",
    "age = input(\"Enter your age \\n\")\n",
    "print(\"What's your age\" , age ) \n",
    "\n",
    "\n",
    "\n"
   ]
  },
  {
   "cell_type": "code",
   "execution_count": 3,
   "metadata": {},
   "outputs": [
    {
     "name": "stdout",
     "output_type": "stream",
     "text": [
      "Enter the word \n",
      "Anshul \n",
      "Hi Ansh\n"
     ]
    }
   ],
   "source": [
    "name = input(\"Enter the word \\n\")[:4]\n",
    "print(\"Hi\" , name)"
   ]
  },
  {
   "cell_type": "code",
   "execution_count": 6,
   "metadata": {},
   "outputs": [
    {
     "name": "stdout",
     "output_type": "stream",
     "text": [
      "Enter a multiple of 510\n",
      "<class 'int'>\n"
     ]
    }
   ],
   "source": [
    "a = int(input(\"Enter a multiple of 5\"))\n",
    "print(type(a))"
   ]
  },
  {
   "cell_type": "code",
   "execution_count": 2,
   "metadata": {},
   "outputs": [
    {
     "name": "stdout",
     "output_type": "stream",
     "text": [
      "Enter your nameAnshul \n",
      "Hi Anshul \n",
      "Enter your age \n",
      "28\n",
      "Anshul  is 28 years old\n"
     ]
    }
   ],
   "source": [
    "name = input(\"Enter your name\")\n",
    "print(\"Hi\" , name)\n",
    "\n",
    "\n",
    "age = input(\"Enter your age \\n\")\n",
    "print(\"%s is %d years old\"%(name , int(age))) \n",
    "#everything in input is string , convert the variable first  \n",
    "#use % sign to name the variables "
   ]
  },
  {
   "cell_type": "code",
   "execution_count": null,
   "metadata": {},
   "outputs": [],
   "source": [
    "#if , while , for , break , continue \n",
    "\n",
    "\n"
   ]
  },
  {
   "cell_type": "code",
   "execution_count": null,
   "metadata": {},
   "outputs": [],
   "source": []
  },
  {
   "cell_type": "code",
   "execution_count": null,
   "metadata": {},
   "outputs": [],
   "source": []
  },
  {
   "cell_type": "code",
   "execution_count": null,
   "metadata": {},
   "outputs": [],
   "source": []
  },
  {
   "cell_type": "code",
   "execution_count": null,
   "metadata": {},
   "outputs": [],
   "source": []
  },
  {
   "cell_type": "code",
   "execution_count": null,
   "metadata": {},
   "outputs": [],
   "source": []
  }
 ],
 "metadata": {
  "kernelspec": {
   "display_name": "Python 3",
   "language": "python",
   "name": "python3"
  },
  "language_info": {
   "codemirror_mode": {
    "name": "ipython",
    "version": 3
   },
   "file_extension": ".py",
   "mimetype": "text/x-python",
   "name": "python",
   "nbconvert_exporter": "python",
   "pygments_lexer": "ipython3",
   "version": "3.6.7"
  }
 },
 "nbformat": 4,
 "nbformat_minor": 2
}
