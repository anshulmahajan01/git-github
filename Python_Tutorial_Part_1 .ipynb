{
 "cells": [
  {
   "cell_type": "code",
   "execution_count": 1,
   "metadata": {},
   "outputs": [
    {
     "name": "stdout",
     "output_type": "stream",
     "text": [
      "Meet Anshul\n",
      "Anshul is a software engineer\n",
      "Anshul is also interested in lots of other things in life\n"
     ]
    }
   ],
   "source": [
    "print(\"Meet Anshul\")\n",
    "print(\"Anshul is a software engineer\")\n",
    "print(\"Anshul is also interested in lots of other things in life\")\n",
    "\n",
    "#Instead of typing Anshul, we can store it in variable "
   ]
  },
  {
   "cell_type": "code",
   "execution_count": 2,
   "metadata": {},
   "outputs": [
    {
     "name": "stdout",
     "output_type": "stream",
     "text": [
      "Meet Anshul\n",
      "Anshul is a software engineer\n",
      "Anshul is also interested in lots of other things in life\n"
     ]
    }
   ],
   "source": [
    "name = \"Anshul\"\n",
    "print(\"Meet\" , name)\n",
    "print(\"%s is a software engineer\"  %name)\n",
    "print(\"%s is also interested in lots of other things in life\" %name)"
   ]
  },
  {
   "cell_type": "code",
   "execution_count": 3,
   "metadata": {},
   "outputs": [
    {
     "name": "stdout",
     "output_type": "stream",
     "text": [
      "Meet Bhagyashree\n",
      "Bhagyashree is a software engineer\n",
      "Bhagyashree is also interested in lots of other things in life\n"
     ]
    }
   ],
   "source": [
    "name = \"Bhagyashree\"\n",
    "print(\"Meet\" , name)\n",
    "print(\"%s is a software engineer\"  %name)\n",
    "print(\"%s is also interested in lots of other things in life\" %name)"
   ]
  },
  {
   "cell_type": "code",
   "execution_count": 5,
   "metadata": {},
   "outputs": [
    {
     "name": "stdout",
     "output_type": "stream",
     "text": [
      "1761842682320\n",
      "1761842984944\n"
     ]
    }
   ],
   "source": [
    "#In python variables with the same name holds the same memory space \n",
    "\n",
    "\n",
    "name = \"Anshul\"\n",
    "name2 = \"Bhagyashree\"\n",
    "\n",
    "\n",
    "print(id(name))\n",
    "print(id(name2))"
   ]
  },
  {
   "cell_type": "code",
   "execution_count": 12,
   "metadata": {},
   "outputs": [
    {
     "name": "stdout",
     "output_type": "stream",
     "text": [
      "5 <class 'int'>\n",
      "5.0 <class 'float'>\n",
      "(5+0j) <class 'complex'>\n",
      "5.6 <class 'float'>\n",
      "5 <class 'int'>\n",
      "(5+6j) <class 'complex'>\n"
     ]
    }
   ],
   "source": [
    "#int\n",
    "num = 5\n",
    "print(num , type(num))\n",
    "#conversion\n",
    "print(float(num) , type(float(num)))\n",
    "print(complex(num) , type(complex(num)))\n",
    "\n",
    "#float\n",
    "num = 5.6\n",
    "print(num ,type(num))\n",
    "#conversion\n",
    "print(int(num) , type(int(num)))\n",
    "\n",
    "\n",
    "#complex\n",
    "num = 5 + 6j\n",
    "print(num , type(num))"
   ]
  },
  {
   "cell_type": "code",
   "execution_count": 5,
   "metadata": {},
   "outputs": [
    {
     "name": "stdout",
     "output_type": "stream",
     "text": [
      "[1, 4, 5, 2, 5, 6]\n",
      "1\n",
      "6\n",
      "[5, 2, 5, 6]\n",
      "[4, 2, 6]\n"
     ]
    }
   ],
   "source": [
    "#List , tuples and dictionaries\n",
    "lst = [1,4,5,2,5,6]\n",
    "print(lst)\n",
    "print(lst[0])\n",
    "print(len(lst))\n",
    "print(lst[-4:])\n",
    "print(lst[1::2])"
   ]
  },
  {
   "cell_type": "code",
   "execution_count": 6,
   "metadata": {},
   "outputs": [],
   "source": [
    "lst = [1,4,\"Python\" , 2 , 7.4 , 5]\n",
    "lst.append(\"Learning\")"
   ]
  },
  {
   "cell_type": "code",
   "execution_count": 12,
   "metadata": {},
   "outputs": [],
   "source": [
    "nested = [1,2,[2,3,4]]\n",
    "nested.extend([[5,6,7], [7,8,9]])"
   ]
  },
  {
   "cell_type": "code",
   "execution_count": 13,
   "metadata": {},
   "outputs": [
    {
     "data": {
      "text/plain": [
       "[1, 2, [2, 3, 4], [5, 6, 7], [7, 8, 9]]"
      ]
     },
     "execution_count": 13,
     "metadata": {},
     "output_type": "execute_result"
    }
   ],
   "source": [
    "nested"
   ]
  },
  {
   "cell_type": "code",
   "execution_count": 18,
   "metadata": {},
   "outputs": [
    {
     "name": "stdout",
     "output_type": "stream",
     "text": [
      "(3, 2, 1)\n"
     ]
    }
   ],
   "source": [
    "tpl = (1,2,3)\n",
    "print(tpl[::-1])"
   ]
  },
  {
   "cell_type": "code",
   "execution_count": 20,
   "metadata": {},
   "outputs": [],
   "source": [
    "tpl = 5,6,8\n",
    "a,b,c = tpl"
   ]
  },
  {
   "cell_type": "code",
   "execution_count": 22,
   "metadata": {},
   "outputs": [
    {
     "name": "stdout",
     "output_type": "stream",
     "text": [
      "5 6 8\n"
     ]
    }
   ],
   "source": [
    "print(a,b,c)"
   ]
  },
  {
   "cell_type": "code",
   "execution_count": 23,
   "metadata": {},
   "outputs": [],
   "source": [
    "a , *lst = tpl\n",
    "print(a , tpl)"
   ]
  },
  {
   "cell_type": "code",
   "execution_count": null,
   "metadata": {},
   "outputs": [],
   "source": [
    "s = {1,2,2,3,3,3,4,5}\n",
    "print(s)\n",
    "s[1] = 1 #this won't work as it cannot be assigned "
   ]
  },
  {
   "cell_type": "code",
   "execution_count": 31,
   "metadata": {},
   "outputs": [
    {
     "name": "stdout",
     "output_type": "stream",
     "text": [
      "a + b 15\n",
      "a - b 5\n",
      "a * b 50\n",
      "a / b 2.0\n",
      "a // b 2\n",
      "a % b 0\n",
      "a ** b 100000\n"
     ]
    }
   ],
   "source": [
    "#arthimetic operators \n",
    "a ,b = 10 , 5\n",
    "print('a + b' , a + b)\n",
    "print('a - b' , a - b)\n",
    "print('a * b' , a * b)\n",
    "print('a / b' , a / b)\n",
    "print('a // b' , a // b)\n",
    "print('a % b' , a % b)\n",
    "print('a ** b' , a ** b)"
   ]
  },
  {
   "cell_type": "code",
   "execution_count": 34,
   "metadata": {},
   "outputs": [
    {
     "name": "stdout",
     "output_type": "stream",
     "text": [
      "2\n"
     ]
    }
   ],
   "source": [
    "count = 0 \n",
    "count = count + 1\n",
    "count += 1\n",
    "print(count)\n"
   ]
  },
  {
   "cell_type": "code",
   "execution_count": 36,
   "metadata": {},
   "outputs": [
    {
     "name": "stdout",
     "output_type": "stream",
     "text": [
      "10 5\n",
      "True\n",
      "False\n",
      "True\n",
      "False\n",
      "False\n",
      "True\n"
     ]
    }
   ],
   "source": [
    "#Relational operators \n",
    "\n",
    "a,b = 10 , 5\n",
    "print(a,b)\n",
    "print(a>b)\n",
    "print(a<b)\n",
    "print(a>=b)\n",
    "print(a<=b)\n",
    "print(a==b)\n",
    "print(a!=b)"
   ]
  },
  {
   "cell_type": "code",
   "execution_count": 41,
   "metadata": {},
   "outputs": [
    {
     "name": "stdout",
     "output_type": "stream",
     "text": [
      "10 20 30\n",
      "True\n",
      "True\n"
     ]
    }
   ],
   "source": [
    "#Relational operators \n",
    "\n",
    "\n",
    "a1, b1, c1 =  10 , 20 , 30 \n",
    "print(a1,b1,c1)\n",
    "print(c1>b1 or 1 > b1)\n",
    "print(not a1 > b1)"
   ]
  },
  {
   "cell_type": "code",
   "execution_count": 48,
   "metadata": {},
   "outputs": [
    {
     "name": "stdout",
     "output_type": "stream",
     "text": [
      "('0b1010', '0b101')\n",
      "0\n",
      "0b1111\n",
      "0b1111\n",
      "-0b1011\n",
      "0b101000\n"
     ]
    }
   ],
   "source": [
    "#bitwise operator \n",
    "\n",
    "\n",
    "a ,b = 10 , 5 \n",
    "print((bin(a) , bin(b)))\n",
    "print(a & b)\n",
    "print(bin(a|b))\n",
    "print(bin(a^b))\n",
    "print(bin(~a))\n",
    "print(bin(a<<2))"
   ]
  },
  {
   "cell_type": "code",
   "execution_count": 51,
   "metadata": {},
   "outputs": [
    {
     "name": "stdout",
     "output_type": "stream",
     "text": [
      "False\n"
     ]
    }
   ],
   "source": [
    "#membership operators \n",
    "\n",
    "lst = [1,2,3,4,5]\n",
    "x=2\n",
    "print(x not in lst)"
   ]
  },
  {
   "cell_type": "code",
   "execution_count": 54,
   "metadata": {},
   "outputs": [
    {
     "name": "stdout",
     "output_type": "stream",
     "text": [
      "True\n",
      "False\n"
     ]
    }
   ],
   "source": [
    "#identity operator \n",
    "\n",
    "x = 10 \n",
    "y = 10\n",
    "print(x is y)\n",
    "print(x is not y)"
   ]
  },
  {
   "cell_type": "code",
   "execution_count": 62,
   "metadata": {},
   "outputs": [
    {
     "name": "stdout",
     "output_type": "stream",
     "text": [
      "857.375\n",
      "10\n",
      "3.082207001484488\n",
      "6\n"
     ]
    }
   ],
   "source": [
    "import math \n",
    "\n",
    "x = 9.5\n",
    "y= 3\n",
    "print(math.pow(x,y))\n",
    "\n",
    "x = 9.5\n",
    "print(math.ceil(x))\n",
    "\n",
    "print(math.sqrt(x))\n",
    "\n",
    "print(math.factorial(y))"
   ]
  },
  {
   "cell_type": "code",
   "execution_count": 65,
   "metadata": {},
   "outputs": [
    {
     "name": "stdout",
     "output_type": "stream",
     "text": [
      "Enter your name \n",
      "Anshul\n",
      "Hi Anshul\n",
      "Enter your age \n",
      "28\n",
      "What's your age 28\n"
     ]
    }
   ],
   "source": [
    "#inline input \n",
    "\n",
    "name = input(\"Enter your name \\n\")\n",
    "print(\"Hi\" , name)\n",
    "\n",
    "age = input(\"Enter your age \\n\")\n",
    "print(\"What's your age\" , age ) "
   ]
  },
  {
   "cell_type": "code",
   "execution_count": 3,
   "metadata": {},
   "outputs": [
    {
     "name": "stdout",
     "output_type": "stream",
     "text": [
      "Enter the word \n",
      "Anshul \n",
      "Hi Ansh\n"
     ]
    }
   ],
   "source": [
    "name = input(\"Enter the word \\n\")[:4]\n",
    "print(\"Hi\" , name)"
   ]
  },
  {
   "cell_type": "code",
   "execution_count": 6,
   "metadata": {},
   "outputs": [
    {
     "name": "stdout",
     "output_type": "stream",
     "text": [
      "Enter a multiple of 510\n",
      "<class 'int'>\n"
     ]
    }
   ],
   "source": [
    "a = int(input(\"Enter a multiple of 5\"))\n",
    "print(type(a))"
   ]
  },
  {
   "cell_type": "code",
   "execution_count": 2,
   "metadata": {},
   "outputs": [
    {
     "name": "stdout",
     "output_type": "stream",
     "text": [
      "Enter your nameAnshul \n",
      "Hi Anshul \n",
      "Enter your age \n",
      "28\n",
      "Anshul  is 28 years old\n"
     ]
    }
   ],
   "source": [
    "name = input(\"Enter your name\")\n",
    "print(\"Hi\" , name)\n",
    "\n",
    "\n",
    "age = input(\"Enter your age \\n\")\n",
    "print(\"%s is %d years old\"%(name , int(age))) \n",
    "#everything in input is string , convert the variable first  \n",
    "#use % sign to name the variables "
   ]
  },
  {
   "cell_type": "code",
   "execution_count": 2,
   "metadata": {},
   "outputs": [
    {
     "name": "stdout",
     "output_type": "stream",
     "text": [
      "Enter the multiple of 22\n",
      "2 This is an even number\n",
      "This is what happens next\n"
     ]
    }
   ],
   "source": [
    "#if , while , for , break , continue \n",
    "\n",
    "a = int(input(\"Enter the multiple of 2\"))\n",
    "if a%2 != 0:\n",
    "    print(a , \"This is an odd number\")\n",
    "else:\n",
    "    print(a , \"This is an even number\")\n",
    "    \n",
    "print(\"This is what happens next\")"
   ]
  },
  {
   "cell_type": "code",
   "execution_count": 4,
   "metadata": {},
   "outputs": [
    {
     "name": "stdout",
     "output_type": "stream",
     "text": [
      "Enter the number5\n",
      "Enter the number9\n",
      "Enter the number6\n",
      "9 This is the greatest number\n"
     ]
    }
   ],
   "source": [
    "#if , while , for , break , continue \n",
    "\n",
    "a = int(input(\"Enter the number\"))\n",
    "b = int(input(\"Enter the number\"))\n",
    "c = int(input(\"Enter the number\"))\n",
    "\n",
    "\n",
    "\n",
    "if a>b and a>c:\n",
    "    print(a , \"This is the greatest number\")\n",
    "elif b>a and b>c :\n",
    "    print(b , \"This is the greatest number\")\n",
    "else:\n",
    "    print(c , \"This is the greatest number\")"
   ]
  },
  {
   "cell_type": "code",
   "execution_count": 7,
   "metadata": {},
   "outputs": [
    {
     "name": "stdout",
     "output_type": "stream",
     "text": [
      "Enter your age35\n",
      "You are not eligible for any discount\n"
     ]
    }
   ],
   "source": [
    "#if , while , for , break , continue \n",
    "\n",
    "\n",
    "age = int(input(\"Enter your age\"))\n",
    "if age >= 60:\n",
    "    print(\"You are eligible for the senior citizen discount\")\n",
    "else: #this is the nested script so that i can write multiple scripts\n",
    "    if age <= 18:\n",
    "        print(\"You are eligible for the minor discount\")\n",
    "    else:\n",
    "        print(\"You are not eligible for any discount\")"
   ]
  },
  {
   "cell_type": "code",
   "execution_count": 1,
   "metadata": {},
   "outputs": [
    {
     "name": "stdout",
     "output_type": "stream",
     "text": [
      "0 Python\n",
      "1 Python\n",
      "2 Python\n",
      "3 Python\n",
      "4 Python\n",
      "5 Python\n"
     ]
    }
   ],
   "source": [
    "#if , while , for , break , continue \n",
    "\n",
    "word = \"Python\"\n",
    "i = 0\n",
    "while i <= 5:\n",
    "    print(i, word)\n",
    "    i += 1"
   ]
  },
  {
   "cell_type": "code",
   "execution_count": 1,
   "metadata": {},
   "outputs": [
    {
     "name": "stdout",
     "output_type": "stream",
     "text": [
      "Enter 1 to add the list of the element and 0 to exitAnshul\n",
      "Enter 1 to add the list of the element and 0 to exit1\n",
      "Enter 1 to add the list of the element and 0 to exit90.0\n",
      "Enter 1 to add the list of the element and 0 to exitMastering Data Science\n",
      "Enter 1 to add the list of the element and 0 to exit0\n",
      "['Anshul', '1', '90.0', 'Mastering Data Science']\n"
     ]
    }
   ],
   "source": [
    "#if , while , for , break , continue \n",
    "\n",
    "lst = []\n",
    "c = input(\"Enter 1 to add the list of the element and 0 to exit\")\n",
    "while c != \"0\":\n",
    "    lst.append(c)\n",
    "    c = input(\"Enter 1 to add the list of the element and 0 to exit\")\n",
    "print(lst)"
   ]
  },
  {
   "cell_type": "code",
   "execution_count": 2,
   "metadata": {},
   "outputs": [
    {
     "name": "stdout",
     "output_type": "stream",
     "text": [
      "0 Python\n",
      "1 Python\n",
      "2 Python\n",
      "3 Python\n",
      "4 Python\n",
      "5 Python\n",
      "6 Python\n",
      "7 Python\n",
      "8 Python\n",
      "9 Python\n"
     ]
    }
   ],
   "source": [
    "#if , while , for , break , continue \n",
    "word = 'Python'\n",
    "\n",
    "for w in range(10):\n",
    "    print(w, word)"
   ]
  },
  {
   "cell_type": "code",
   "execution_count": 1,
   "metadata": {},
   "outputs": [
    {
     "name": "stdout",
     "output_type": "stream",
     "text": [
      "1\n",
      "2\n",
      "Hello\n",
      "[1, 2, 3]\n"
     ]
    }
   ],
   "source": [
    "lst = [1,2,\"Hello\" , [1,2,3]]\n",
    "for obj in lst:\n",
    "    print(obj)"
   ]
  },
  {
   "cell_type": "code",
   "execution_count": 2,
   "metadata": {},
   "outputs": [
    {
     "name": "stdout",
     "output_type": "stream",
     "text": [
      "Enter word Anshul Mahajan\n",
      "Number of vowels in Anshul Mahajan is 5\n"
     ]
    }
   ],
   "source": [
    "#count the number of vowels in the input\n",
    "\n",
    "word = input(\"Enter word \")\n",
    "count = 0\n",
    "\n",
    "for i in word:\n",
    "    if i in ['a' ,'e' ,'i' ,'o' ,'u' ,'A' ,'E' ,'I' ,'O' ,'U']:\n",
    "        count += 1\n",
    "print(\"Number of vowels in %s is %d\"%(word , count))\n"
   ]
  },
  {
   "cell_type": "code",
   "execution_count": 4,
   "metadata": {},
   "outputs": [],
   "source": [
    "#Break & Continue\n",
    "\n",
    "n = 11\n",
    "for i in range(2, n//2+1):\n",
    "    if n%i == 0:\n",
    "        print(n, \"is not a prime number\")\n",
    "        break"
   ]
  },
  {
   "cell_type": "code",
   "execution_count": 6,
   "metadata": {},
   "outputs": [
    {
     "name": "stdout",
     "output_type": "stream",
     "text": [
      "20 is divisible by 2\n",
      "20 is divisible by 4\n",
      "20 is divisible by 5\n",
      "20 is divisible by 10\n"
     ]
    }
   ],
   "source": [
    "n = 20 \n",
    "for i in range(2, n//2+1):\n",
    "    if n%i != 0:\n",
    "        continue \n",
    "    print(\"%d is divisible by %d\"%(n,i))\n",
    "        "
   ]
  },
  {
   "cell_type": "code",
   "execution_count": 13,
   "metadata": {},
   "outputs": [
    {
     "name": "stdout",
     "output_type": "stream",
     "text": [
      "array('i', [1, 2, 4, 5, -10, 1, 2, 4, 5, -10, 1, 2, 4, 5, -10])\n",
      "4\n"
     ]
    }
   ],
   "source": [
    "#Arrays and Numpy , and Lists and array are not the same thing in python \n",
    "\n",
    "\n",
    "from array import *\n",
    "ar = array('i' , [1,2,3,4,5])\n",
    "ar.append(-10)\n",
    "ar.remove(3)\n",
    "ar = ar*3\n",
    "print(ar)\n",
    "print(ar.index(-10))"
   ]
  },
  {
   "cell_type": "code",
   "execution_count": 21,
   "metadata": {},
   "outputs": [
    {
     "name": "stdout",
     "output_type": "stream",
     "text": [
      "[1, 2, 3]\n",
      "[1 2 3]\n",
      "[[1 2 3]\n",
      " [4 5 6]]\n",
      "Dimension :  2\n",
      "Size :  6\n",
      "Shape :  (2, 3)\n",
      "Type of elements :  int32\n"
     ]
    }
   ],
   "source": [
    "import numpy as np \n",
    "\n",
    "ar1 = np.array([1,2,3])\n",
    "print([1,2,3])\n",
    "print(ar1) # when numpy gets printed it doesn't show comma in the output \n",
    "\n",
    "ar2 = np.array([[1,2,3],[4,5,6]])\n",
    "print(ar2) # when numpy gets printed it doesn't show comma in the output \n",
    "print(\"Dimension : \" , ar2.ndim)\n",
    "print(\"Size : \" , ar2.size)\n",
    "print(\"Shape : \" , ar2.shape) #shape is extremely important in ML and data fitting and training \n",
    "print(\"Type of elements : \" , ar2.dtype)"
   ]
  },
  {
   "cell_type": "code",
   "execution_count": 28,
   "metadata": {},
   "outputs": [
    {
     "name": "stdout",
     "output_type": "stream",
     "text": [
      "[[0 0]\n",
      " [0 0]]\n",
      "[[1 1 1]\n",
      " [1 1 1]]\n",
      "6\n",
      "[[3 2 1]]\n",
      "[[11 12 13]\n",
      " [14 15 16]\n",
      " [17 18 19]]\n"
     ]
    }
   ],
   "source": [
    "z = np.zeros((2,2) , dtype = \"int\")\n",
    "print(z) #array filled with zeros\n",
    "\n",
    "z1 = np.full((2,3) , 1)\n",
    "print(z1)\n",
    "\n",
    "ar3 = np.array([[1,2,3] ,[4,5,6] ,[7,8,9]])\n",
    "print(ar3[1,2])\n",
    "\n",
    "ar3 = np.array([[1,2,3] ,[4,5,6] ,[7,8,9]])\n",
    "print(ar3[:1,::-1])"
   ]
  },
  {
   "cell_type": "code",
   "execution_count": 31,
   "metadata": {},
   "outputs": [
    {
     "name": "stdout",
     "output_type": "stream",
     "text": [
      "[[11 12 13]\n",
      " [14 15 16]\n",
      " [17 18 19]]\n",
      "[[10 20 30]\n",
      " [40 50 60]\n",
      " [70 80 90]]\n",
      "45\n",
      "6\n",
      "1\n",
      "9\n"
     ]
    }
   ],
   "source": [
    "#numpy functionalities \n",
    "\n",
    "print(ar3 + 10)\n",
    "print(ar3 * 10)\n",
    "print(ar3.sum())\n",
    "print(ar3[0].sum())\n",
    "print(ar3.min())\n",
    "print(ar3.max())"
   ]
  },
  {
   "cell_type": "code",
   "execution_count": 33,
   "metadata": {},
   "outputs": [
    {
     "name": "stdout",
     "output_type": "stream",
     "text": [
      "[[1 4]\n",
      " [2 5]\n",
      " [3 6]]\n",
      "[[1 2 3]\n",
      " [4 5 6]]\n"
     ]
    }
   ],
   "source": [
    "#Transpose Numpy \n",
    "ar4 = np.array([[1,2,3],[4,5,6]])\n",
    "ar4.T\n",
    "print(ar4.T)\n",
    "print(ar4)"
   ]
  },
  {
   "cell_type": "code",
   "execution_count": 39,
   "metadata": {},
   "outputs": [
    {
     "name": "stdout",
     "output_type": "stream",
     "text": [
      "I am going to make it very big \n",
      "9\n",
      "(7768873, -5825521)\n"
     ]
    }
   ],
   "source": [
    "#Functions\n",
    "\n",
    "def fun():\n",
    "    print(\"I am going to make it very big \")\n",
    "fun()\n",
    "\n",
    "def sum(a ,b):\n",
    "    print(a +b)\n",
    "sum(4,5)\n",
    "\n",
    "\n",
    "def add(a,b):\n",
    "    s = a + b \n",
    "    d = a - b\n",
    "    return s , d #Here s is tuple \n",
    "n = add(971676,6797197)\n",
    "print(n)"
   ]
  },
  {
   "cell_type": "code",
   "execution_count": 3,
   "metadata": {},
   "outputs": [
    {
     "name": "stdout",
     "output_type": "stream",
     "text": [
      "3\n"
     ]
    }
   ],
   "source": [
    "#args , kwargs \n",
    "\n",
    "def args_kwargs(*myArgs):\n",
    "    a = myArgs[0] + myArgs[1]\n",
    "    return a\n",
    "    print(myArgs[1])\n",
    "a = args_kwargs(1,2,3,4)\n",
    "print(a)"
   ]
  },
  {
   "cell_type": "code",
   "execution_count": 6,
   "metadata": {},
   "outputs": [
    {
     "name": "stdout",
     "output_type": "stream",
     "text": [
      "{'a': 10, 'b': 20}\n",
      "30\n"
     ]
    }
   ],
   "source": [
    "def args_kwargs(**myKwargs):\n",
    "    print(myKwargs)\n",
    "    print(myKwargs['a'] + myKwargs['b'])\n",
    "args_kwargs(a = 10 , b = 20)\n",
    "    \n",
    "#     a = myArgs[0] + myArgs[1]\n",
    "#     return a\n",
    "#     print(myArgs[1])\n",
    "# a = args_kwargs(1,2,3,4)\n",
    "# print(a)"
   ]
  },
  {
   "cell_type": "code",
   "execution_count": 8,
   "metadata": {},
   "outputs": [
    {
     "name": "stdout",
     "output_type": "stream",
     "text": [
      "7\n",
      "6\n",
      "5\n",
      "4\n",
      "3\n",
      "2\n",
      "1\n"
     ]
    }
   ],
   "source": [
    "#functions recursive \n",
    "\n",
    "\n",
    "def rec(n):\n",
    "    if n == 1:\n",
    "        print(n)\n",
    "        return\n",
    "    print(n)\n",
    "    return rec(n-1)\n",
    "rec(7)"
   ]
  },
  {
   "cell_type": "code",
   "execution_count": 9,
   "metadata": {},
   "outputs": [
    {
     "name": "stdout",
     "output_type": "stream",
     "text": [
      "120\n"
     ]
    }
   ],
   "source": [
    "#factorial Function \n",
    "\n",
    "def fact(n):\n",
    "    f = 1\n",
    "    for i in range(1 , n + 1):\n",
    "        f *=  i\n",
    "    return f\n",
    "print(fact(5))"
   ]
  },
  {
   "cell_type": "code",
   "execution_count": 12,
   "metadata": {},
   "outputs": [
    {
     "name": "stdout",
     "output_type": "stream",
     "text": [
      "30\n",
      "['a', 'e', 'o', 'u', 'a']\n"
     ]
    }
   ],
   "source": [
    "#lambda functions \n",
    "\n",
    "l = lambda a , b : a +b \n",
    "print(l(10,20))\n",
    "\n",
    "lst = ['a','b','e','o','u','a']\n",
    "l = list(filter(lambda x : x in ['a' ,'e' ,'i' ,'o' ,'u'] , lst))\n",
    "print(l)\n",
    "         "
   ]
  },
  {
   "cell_type": "code",
   "execution_count": 14,
   "metadata": {},
   "outputs": [
    {
     "name": "stdout",
     "output_type": "stream",
     "text": [
      "['b', 'c', 'f', 'p', 'v', 'b']\n"
     ]
    }
   ],
   "source": [
    "#lambda functions  , map\n",
    "\n",
    "lst = ['a','b','e','o','u','a']\n",
    "result = map(lambda x : chr(ord(x)+1) , lst)\n",
    "print(list(result))\n"
   ]
  },
  {
   "cell_type": "code",
   "execution_count": 15,
   "metadata": {},
   "outputs": [
    {
     "name": "stdout",
     "output_type": "stream",
     "text": [
      "abeoua\n"
     ]
    }
   ],
   "source": [
    "#lambda functions  , map\n",
    "#concatenate the lines \n",
    "\n",
    "from functools import reduce \n",
    "result = reduce(lambda x,y : x + y , lst)\n",
    "print(result)"
   ]
  },
  {
   "cell_type": "code",
   "execution_count": 22,
   "metadata": {},
   "outputs": [
    {
     "name": "stdout",
     "output_type": "stream",
     "text": [
      "Enter the number : 11\n",
      "Number is prime\n",
      "None\n",
      "Number is odd\n",
      "None\n"
     ]
    }
   ],
   "source": [
    "# from modl import * , this will import all the code from one file to another \n",
    "\n",
    "def prime(a):\n",
    "    for i in range(2,a):\n",
    "        if a%i == 0:\n",
    "            print(\"Number is not prime\")\n",
    "            return \n",
    "    print(\"Number is prime\")\n",
    "    \n",
    "    \n",
    "def even(a):\n",
    "    if a%2 == 0:\n",
    "        print(\"Number is even\")\n",
    "    else:\n",
    "        print(\"Number is odd\")\n",
    "        \n",
    "n = int(input(\"Enter the number : \"))\n",
    "print(prime(n))\n",
    "print(even(n))"
   ]
  },
  {
   "cell_type": "code",
   "execution_count": 10,
   "metadata": {},
   "outputs": [
    {
     "name": "stdout",
     "output_type": "stream",
     "text": [
      "Maxium Speed is  155\n",
      "This is sedan\n"
     ]
    }
   ],
   "source": [
    "#OOPS\n",
    "\n",
    "class Car:\n",
    "    carType = \"Manual\" #global variable or feature \n",
    "    def __init__(self , year , speed):\n",
    "        self.year = year #instance feature\n",
    "        self.speed = speed #instance feature \n",
    "    \n",
    "    @staticmethod\n",
    "    def welcome():\n",
    "        print(\"Welcome to the ar showroom\")\n",
    "    @classmethod\n",
    "    def type(cls):\n",
    "        print(print(\"These classes are \" , cls.carType))\n",
    "    def getSpeed(self):\n",
    "        print(\"Maxium Speed is \" , self.speed)\n",
    "\n",
    "BMW = Car(2018 , 155)\n",
    "\n",
    "Ford = Car(2016 , 140)\n",
    "AUDI = Car(2017 , 145)\n",
    "\n",
    "BMW.getSpeed()\n",
    "\n",
    "class Sedan(Car):  #Inheritance\n",
    "    def __init__(self , year , speed):\n",
    "        super().__init__(year, speed)\n",
    "        print(\"This is sedan\")\n",
    "\n",
    "class SUV(Car):\n",
    "    def getSpeed(Self):\n",
    "        print(\"Maximum speed is 120 \")\n",
    "\n",
    "    def openTrunk(self):\n",
    "        print(\"Open Trunk\")\n",
    "BMW = Sedan(2018 , 155)\n",
    "# BMW.openTrunk()"
   ]
  }
 ],
 "metadata": {
  "kernelspec": {
   "display_name": "Python 3",
   "language": "python",
   "name": "python3"
  },
  "language_info": {
   "codemirror_mode": {
    "name": "ipython",
    "version": 3
   },
   "file_extension": ".py",
   "mimetype": "text/x-python",
   "name": "python",
   "nbconvert_exporter": "python",
   "pygments_lexer": "ipython3",
   "version": "3.6.7"
  }
 },
 "nbformat": 4,
 "nbformat_minor": 2
}
